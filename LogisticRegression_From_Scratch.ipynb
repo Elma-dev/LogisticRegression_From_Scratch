{
  "nbformat": 4,
  "nbformat_minor": 0,
  "metadata": {
    "colab": {
      "provenance": [],
      "authorship_tag": "ABX9TyN7nXbkp2Chzi/q9VWp+bZy",
      "include_colab_link": true
    },
    "kernelspec": {
      "name": "python3",
      "display_name": "Python 3"
    },
    "language_info": {
      "name": "python"
    }
  },
  "cells": [
    {
      "cell_type": "markdown",
      "metadata": {
        "id": "view-in-github",
        "colab_type": "text"
      },
      "source": [
        "<a href=\"https://colab.research.google.com/github/Elma-dev/LogisticRegression_From_Scratch/blob/main/LogisticRegression_From_Scratch.ipynb\" target=\"_parent\"><img src=\"https://colab.research.google.com/assets/colab-badge.svg\" alt=\"Open In Colab\"/></a>"
      ]
    },
    {
      "cell_type": "code",
      "execution_count": 1,
      "metadata": {
        "id": "oXQv0FqucBZL"
      },
      "outputs": [],
      "source": [
        "import numpy as np"
      ]
    },
    {
      "cell_type": "markdown",
      "source": [
        "# <center>**LogisticRegression**</center>"
      ],
      "metadata": {
        "id": "mJvPEp2gcKsa"
      }
    },
    {
      "cell_type": "markdown",
      "source": [
        "## <center>**SigmoidFunction**</center>\n",
        "\\begin{equation}\n",
        "f(z)=\\frac{1}{1+e^{-z}}\n",
        "\\end{equation}\n",
        "\n",
        "\\begin{equation}\n",
        "z=w_{0}x_{0}+w_{1}x_{0}+...+w_{i}x_{i}+b\n",
        "\\end{equation}"
      ],
      "metadata": {
        "id": "h9ce_nq-cWP6"
      }
    },
    {
      "cell_type": "code",
      "source": [
        "def sigmoid(z):\n",
        "  return 1/(1+np.exp(-z))"
      ],
      "metadata": {
        "id": "xudjNunycKIF"
      },
      "execution_count": 2,
      "outputs": []
    },
    {
      "cell_type": "code",
      "source": [
        "#test\n",
        "X=np.ones((20,))\n",
        "W=np.linspace(0,10,20)\n",
        "z=np.dot(W,X)\n",
        "sigmoid(z)"
      ],
      "metadata": {
        "colab": {
          "base_uri": "https://localhost:8080/"
        },
        "id": "g79g8KtccHxv",
        "outputId": "1dd27349-ba5e-4cc4-983b-9b17e867a8bf"
      },
      "execution_count": 8,
      "outputs": [
        {
          "output_type": "execute_result",
          "data": {
            "text/plain": [
              "1.0"
            ]
          },
          "metadata": {},
          "execution_count": 8
        }
      ]
    },
    {
      "cell_type": "code",
      "source": [
        "X=np.array([[1,2,3,4],[1,1,2,3]])\n",
        "y=np.array([1,0])\n",
        "W=np.linspace(0,1,4)\n",
        "b=0.4\n",
        "z=np.dot(X,W)+b \n",
        "m=y.shape[0]\n",
        "sum((sigmoid(z)-y)**2)/(2*m) , y"
      ],
      "metadata": {
        "colab": {
          "base_uri": "https://localhost:8080/"
        },
        "id": "g_w_3ZWehlxb",
        "outputId": "1c142c46-95d7-4a10-dac6-086ff30b9c83"
      },
      "execution_count": 26,
      "outputs": [
        {
          "output_type": "execute_result",
          "data": {
            "text/plain": [
              "(0.2468780344940475, array([1, 0]))"
            ]
          },
          "metadata": {},
          "execution_count": 26
        }
      ]
    },
    {
      "cell_type": "markdown",
      "source": [
        "## <center>**Loss Error**</center>\n",
        "\\begin{equation}\n",
        "J(W,b)=\\frac{1}{m} \\sum_{i=0}^{m}L(sigmoid(W.X^{(i)}+b),y^{(i)})\n",
        "\\end{equation}\n",
        "\n",
        "\\begin{equation}\n",
        "L(sig(z),y)=-y*log(sig(z)) - (1-y) log(1-sig(z))\n",
        "\\end{equation}"
      ],
      "metadata": {
        "id": "E_hx86ISehxd"
      }
    },
    {
      "cell_type": "code",
      "source": [
        "def loss(W,X,b,y):\n",
        "  z=np.dot(X,W)+b\n",
        "  sig=sigmoid(z)\n",
        "  L=-y*np.log(sig)-(1-y)*np.log(1-sig)\n",
        "  return L"
      ],
      "metadata": {
        "id": "-xlN8PP2eg1l"
      },
      "execution_count": 27,
      "outputs": []
    },
    {
      "cell_type": "code",
      "source": [
        "sum(loss(W,X,b,y))"
      ],
      "metadata": {
        "colab": {
          "base_uri": "https://localhost:8080/"
        },
        "id": "h-L1loGcnA_a",
        "outputId": "b102c359-5167-41ea-f683-883979fca66a"
      },
      "execution_count": 29,
      "outputs": [
        {
          "output_type": "execute_result",
          "data": {
            "text/plain": [
              "5.073802988125889"
            ]
          },
          "metadata": {},
          "execution_count": 29
        }
      ]
    },
    {
      "cell_type": "code",
      "source": [
        "def costError(W,X,b,y):\n",
        "  m=y.shape[0]\n",
        "  L=loss(W,X,b,y)\n",
        "  L_sum=sum(L)\n",
        "  cost=L_sum/m\n",
        "  return cost"
      ],
      "metadata": {
        "id": "NBpim7hMjHze"
      },
      "execution_count": 43,
      "outputs": []
    },
    {
      "cell_type": "code",
      "source": [
        "#Test\n",
        "costError(W,X,b,y)"
      ],
      "metadata": {
        "colab": {
          "base_uri": "https://localhost:8080/"
        },
        "id": "RZms4T4qn4X3",
        "outputId": "eb77bcc1-7e40-4d17-ef8c-5c508685074e"
      },
      "execution_count": 44,
      "outputs": [
        {
          "output_type": "execute_result",
          "data": {
            "text/plain": [
              "2.5369014940629446"
            ]
          },
          "metadata": {},
          "execution_count": 44
        }
      ]
    },
    {
      "cell_type": "markdown",
      "source": [
        "## <center>**Gradient Descent**</center>\n",
        "\\begin{equation}\n",
        "w_{i}:=w_{i} -α* \\frac{dJ(W,b)}{dw} \\\\\n",
        "b:=b -α* \\frac{dJ(W,b)}{db} \\\\\n",
        "\\frac{dJ(W,b)}{dw}=\\frac{1}{m}\\sum_{i=0}^{m}(sigmoid(z_{i})-y_{i})*x_{j}^{(i)} \\\\\n",
        "\\frac{dJ(W,b)}{db}=\\frac{1}{m}\\sum_{i=0}^{m}(sigmoid(z_{i})-y_{i}) \\\\\n",
        "\\end{equation}\n"
      ],
      "metadata": {
        "id": "JoVDgrJ4oA8w"
      }
    },
    {
      "cell_type": "markdown",
      "source": [
        "## <center></center>"
      ],
      "metadata": {
        "id": "0afTJ_z6ja1N"
      }
    },
    {
      "cell_type": "code",
      "source": [
        "def gradient(W,X,b,y):\n",
        "  m,n=X.shape\n",
        "  dj_dw,dj_db=np.zeros(W.shape),np.zeros(W.shape)\n",
        "  z=np.dot(X,W)+b\n",
        "  dist=sigmoid(z)-y\n",
        "  for i in range(m):\n",
        "    for j in range(n):\n",
        "      dj_dw[j]+=dist[i]*X[i][j] \n",
        "  dj_dw/=m\n",
        "  dj_db=sum(dist)/m\n",
        "  return dj_dw,dj_db"
      ],
      "metadata": {
        "id": "buIkcKRLjY4M"
      },
      "execution_count": 66,
      "outputs": []
    },
    {
      "cell_type": "code",
      "source": [
        "def gradientDescent(W,X,b,y,alpha=0.01,iter=100):\n",
        "  for i in range(iter):\n",
        "    dj_dw,dj_db=gradient(W,X,b,y)\n",
        "    W=W-alpha*dj_dw\n",
        "    b=b-alpha*dj_db\n",
        "  return W,b"
      ],
      "metadata": {
        "id": "6fEFhtsPt_YP"
      },
      "execution_count": 70,
      "outputs": []
    },
    {
      "cell_type": "code",
      "source": [
        "X_train = np.array([[0.5, 1.5], [1,1], [1.5, 0.5], [3, 0.5], [2, 2], [1, 2.5]])  #(m,n)\n",
        "y_train = np.array([0, 0, 0, 1, 1, 1]) \n",
        "w_tmp = np.array([1,1])\n",
        "b_tmp = -3"
      ],
      "metadata": {
        "id": "JVg2T7ttwv3_"
      },
      "execution_count": 55,
      "outputs": []
    },
    {
      "cell_type": "code",
      "source": [
        "print(costError(w_tmp,X_train, b_tmp,y_train))"
      ],
      "metadata": {
        "colab": {
          "base_uri": "https://localhost:8080/"
        },
        "id": "QjY4nHMYw35V",
        "outputId": "ae4290a3-c7b8-4dd6-b7ce-f3d0677367dc"
      },
      "execution_count": 56,
      "outputs": [
        {
          "output_type": "stream",
          "name": "stdout",
          "text": [
            "0.36686678640551745\n"
          ]
        }
      ]
    },
    {
      "cell_type": "code",
      "source": [
        "X_tmp = np.array([[0.5, 1.5], [1,1], [1.5, 0.5], [3, 0.5], [2, 2], [1, 2.5]])\n",
        "y_tmp = np.array([0, 0, 0, 1, 1, 1])\n",
        "w_tmp = np.array([2.,3.])\n",
        "b_tmp = 1.\n",
        "dj_dw_tmp, dj_db_tmp = gradient(w_tmp, X_tmp,b_tmp,y_tmp)\n",
        "print(f\"dj_db: {dj_db_tmp}\" )\n",
        "print(f\"dj_dw: {dj_dw_tmp}\" )"
      ],
      "metadata": {
        "colab": {
          "base_uri": "https://localhost:8080/"
        },
        "id": "o34Th9uLzUz1",
        "outputId": "3ed912f3-9572-47b4-f3ab-2591dd94b8c4"
      },
      "execution_count": 67,
      "outputs": [
        {
          "output_type": "stream",
          "name": "stdout",
          "text": [
            "dj_db: 0.49861806546328574\n",
            "dj_dw: [0.49833339 0.49883943]\n"
          ]
        }
      ]
    },
    {
      "cell_type": "code",
      "source": [
        "#Test\n",
        "w_tmp  = np.zeros_like(X_train[0])\n",
        "b_tmp  = 0.\n",
        "alph = 0.1\n",
        "iters = 10000\n",
        "\n",
        "w_out,b_out=gradientDescent(w_tmp,X_train, b_tmp,y_train ,alph, iters) \n",
        "print(f\"\\nupdated parameters: w:{w_out}, b:{b_out}\")"
      ],
      "metadata": {
        "colab": {
          "base_uri": "https://localhost:8080/"
        },
        "id": "PIj6mlHk6gT7",
        "outputId": "72255fb3-2b98-400e-ae0e-3161133595b1"
      },
      "execution_count": 75,
      "outputs": [
        {
          "output_type": "stream",
          "name": "stdout",
          "text": [
            "\n",
            "updated parameters: w:[5.28123029 5.07815608], b:-14.222409982019839\n"
          ]
        }
      ]
    },
    {
      "cell_type": "code",
      "source": [],
      "metadata": {
        "id": "ym38TZVP7sfh"
      },
      "execution_count": null,
      "outputs": []
    }
  ]
}